{
 "cells": [
  {
   "cell_type": "code",
   "execution_count": 1,
   "metadata": {},
   "outputs": [],
   "source": [
    "#############################################\n",
    "#     Challenge Part 3 Itinerary            #\n",
    "#############################################"
   ]
  },
  {
   "cell_type": "code",
   "execution_count": 2,
   "metadata": {},
   "outputs": [],
   "source": [
    "# enable plotting in the Jupyter Notebook\n",
    "%matplotlib inline\n",
    "\n",
    "# Import the dependencies.\n",
    "import pandas as pd\n",
    "import gmaps\n",
    "import gmaps.datasets\n",
    "import requests\n",
    "\n",
    "# Import the google API key.\n",
    "from config import g_key"
   ]
  },
  {
   "cell_type": "code",
   "execution_count": 3,
   "metadata": {},
   "outputs": [],
   "source": [
    "###################################################################\n",
    "#  Search for Cities On the Same Continent for Google Directions  #\n",
    "###################################################################"
   ]
  },
  {
   "cell_type": "code",
   "execution_count": 4,
   "metadata": {},
   "outputs": [
    {
     "data": {
      "text/html": [
       "<div>\n",
       "<style scoped>\n",
       "    .dataframe tbody tr th:only-of-type {\n",
       "        vertical-align: middle;\n",
       "    }\n",
       "\n",
       "    .dataframe tbody tr th {\n",
       "        vertical-align: top;\n",
       "    }\n",
       "\n",
       "    .dataframe thead th {\n",
       "        text-align: right;\n",
       "    }\n",
       "</style>\n",
       "<table border=\"1\" class=\"dataframe\">\n",
       "  <thead>\n",
       "    <tr style=\"text-align: right;\">\n",
       "      <th></th>\n",
       "      <th>City</th>\n",
       "      <th>Country</th>\n",
       "      <th>Max Temp</th>\n",
       "      <th>Current Description</th>\n",
       "      <th>Lat</th>\n",
       "      <th>Lng</th>\n",
       "      <th>Hotel Name</th>\n",
       "    </tr>\n",
       "  </thead>\n",
       "  <tbody>\n",
       "    <tr>\n",
       "      <th>0</th>\n",
       "      <td>Tasiilaq</td>\n",
       "      <td>GL</td>\n",
       "      <td>32.00</td>\n",
       "      <td>scattered clouds</td>\n",
       "      <td>65.61</td>\n",
       "      <td>-37.64</td>\n",
       "      <td>The Red House</td>\n",
       "    </tr>\n",
       "    <tr>\n",
       "      <th>1</th>\n",
       "      <td>Severo-Kurilsk</td>\n",
       "      <td>RU</td>\n",
       "      <td>33.19</td>\n",
       "      <td>light snow</td>\n",
       "      <td>50.68</td>\n",
       "      <td>156.12</td>\n",
       "      <td>Kak Doma</td>\n",
       "    </tr>\n",
       "    <tr>\n",
       "      <th>2</th>\n",
       "      <td>Ushuaia</td>\n",
       "      <td>AR</td>\n",
       "      <td>39.20</td>\n",
       "      <td>scattered clouds</td>\n",
       "      <td>-54.80</td>\n",
       "      <td>-68.30</td>\n",
       "      <td>Albatros Hotel</td>\n",
       "    </tr>\n",
       "    <tr>\n",
       "      <th>3</th>\n",
       "      <td>Bethel</td>\n",
       "      <td>US</td>\n",
       "      <td>36.00</td>\n",
       "      <td>broken clouds</td>\n",
       "      <td>41.37</td>\n",
       "      <td>-73.41</td>\n",
       "      <td>Courtyard by Marriott Danbury</td>\n",
       "    </tr>\n",
       "    <tr>\n",
       "      <th>4</th>\n",
       "      <td>Punta Arenas</td>\n",
       "      <td>CL</td>\n",
       "      <td>42.80</td>\n",
       "      <td>overcast clouds</td>\n",
       "      <td>-53.15</td>\n",
       "      <td>-70.92</td>\n",
       "      <td>Hotel Dreams Del Estrecho</td>\n",
       "    </tr>\n",
       "  </tbody>\n",
       "</table>\n",
       "</div>"
      ],
      "text/plain": [
       "             City Country  Max Temp Current Description    Lat     Lng  \\\n",
       "0        Tasiilaq      GL     32.00    scattered clouds  65.61  -37.64   \n",
       "1  Severo-Kurilsk      RU     33.19          light snow  50.68  156.12   \n",
       "2         Ushuaia      AR     39.20    scattered clouds -54.80  -68.30   \n",
       "3          Bethel      US     36.00       broken clouds  41.37  -73.41   \n",
       "4    Punta Arenas      CL     42.80     overcast clouds -53.15  -70.92   \n",
       "\n",
       "                      Hotel Name  \n",
       "0                  The Red House  \n",
       "1                       Kak Doma  \n",
       "2                 Albatros Hotel  \n",
       "3  Courtyard by Marriott Danbury  \n",
       "4      Hotel Dreams Del Estrecho  "
      ]
     },
     "execution_count": 4,
     "metadata": {},
     "output_type": "execute_result"
    }
   ],
   "source": [
    "# Read vacation city and hotel information from step 2.\n",
    "city_data_df = pd.read_csv(\"weather_data/WeatherPy_vacation.csv\")\n",
    "city_data_df.head()"
   ]
  },
  {
   "cell_type": "code",
   "execution_count": 5,
   "metadata": {},
   "outputs": [],
   "source": [
    "#######################################################\n",
    "#   Create DataFrame with Destination Information     #\n",
    "#######################################################"
   ]
  },
  {
   "cell_type": "code",
   "execution_count": 6,
   "metadata": {},
   "outputs": [
    {
     "data": {
      "text/html": [
       "<div>\n",
       "<style scoped>\n",
       "    .dataframe tbody tr th:only-of-type {\n",
       "        vertical-align: middle;\n",
       "    }\n",
       "\n",
       "    .dataframe tbody tr th {\n",
       "        vertical-align: top;\n",
       "    }\n",
       "\n",
       "    .dataframe thead th {\n",
       "        text-align: right;\n",
       "    }\n",
       "</style>\n",
       "<table border=\"1\" class=\"dataframe\">\n",
       "  <thead>\n",
       "    <tr style=\"text-align: right;\">\n",
       "      <th></th>\n",
       "      <th>City</th>\n",
       "      <th>Country</th>\n",
       "      <th>Max Temp</th>\n",
       "      <th>Current Description</th>\n",
       "      <th>Lat</th>\n",
       "      <th>Lng</th>\n",
       "      <th>Hotel Name</th>\n",
       "    </tr>\n",
       "  </thead>\n",
       "  <tbody>\n",
       "    <tr>\n",
       "      <th>56</th>\n",
       "      <td>Fortuna</td>\n",
       "      <td>US</td>\n",
       "      <td>54.00</td>\n",
       "      <td>overcast clouds</td>\n",
       "      <td>40.60</td>\n",
       "      <td>-124.16</td>\n",
       "      <td>Super 8 by Wyndham Fortuna</td>\n",
       "    </tr>\n",
       "    <tr>\n",
       "      <th>72</th>\n",
       "      <td>Santa Barbara</td>\n",
       "      <td>US</td>\n",
       "      <td>55.99</td>\n",
       "      <td>mist</td>\n",
       "      <td>34.42</td>\n",
       "      <td>-119.70</td>\n",
       "      <td>Kimpton Canary Hotel</td>\n",
       "    </tr>\n",
       "    <tr>\n",
       "      <th>107</th>\n",
       "      <td>Pacific Grove</td>\n",
       "      <td>US</td>\n",
       "      <td>55.40</td>\n",
       "      <td>overcast clouds</td>\n",
       "      <td>36.62</td>\n",
       "      <td>-121.92</td>\n",
       "      <td>Lovers Point Inn</td>\n",
       "    </tr>\n",
       "    <tr>\n",
       "      <th>217</th>\n",
       "      <td>Laguna</td>\n",
       "      <td>US</td>\n",
       "      <td>59.00</td>\n",
       "      <td>clear sky</td>\n",
       "      <td>38.42</td>\n",
       "      <td>-121.42</td>\n",
       "      <td>Holiday Inn Express &amp; Suites Elk Grove Central...</td>\n",
       "    </tr>\n",
       "  </tbody>\n",
       "</table>\n",
       "</div>"
      ],
      "text/plain": [
       "              City Country  Max Temp Current Description    Lat     Lng  \\\n",
       "56         Fortuna      US     54.00     overcast clouds  40.60 -124.16   \n",
       "72   Santa Barbara      US     55.99                mist  34.42 -119.70   \n",
       "107  Pacific Grove      US     55.40     overcast clouds  36.62 -121.92   \n",
       "217         Laguna      US     59.00           clear sky  38.42 -121.42   \n",
       "\n",
       "                                            Hotel Name  \n",
       "56                          Super 8 by Wyndham Fortuna  \n",
       "72                                Kimpton Canary Hotel  \n",
       "107                                   Lovers Point Inn  \n",
       "217  Holiday Inn Express & Suites Elk Grove Central...  "
      ]
     },
     "execution_count": 6,
     "metadata": {},
     "output_type": "execute_result"
    }
   ],
   "source": [
    "destinations_df = city_data_df.loc[(city_data_df[\"City\"] == \"Fortuna\") |\n",
    "                                   (city_data_df[\"City\"] == \"Laguna\") |\n",
    "                                   (city_data_df[\"City\"] == \"Pacific Grove\") |\n",
    "                                   (city_data_df[\"City\"] == \"Santa Barbara\"), :]\n",
    "destinations_df"
   ]
  },
  {
   "cell_type": "code",
   "execution_count": 7,
   "metadata": {},
   "outputs": [],
   "source": [
    "#######################################################\n",
    "#        Create Google Maps Direction Layer           #\n",
    "#######################################################"
   ]
  },
  {
   "cell_type": "code",
   "execution_count": 8,
   "metadata": {},
   "outputs": [
    {
     "data": {
      "application/vnd.jupyter.widget-view+json": {
       "model_id": "a6f5454565f84359a660051cca454c05",
       "version_major": 2,
       "version_minor": 0
      },
      "text/plain": [
       "Figure(layout=FigureLayout(height='420px'))"
      ]
     },
     "metadata": {},
     "output_type": "display_data"
    }
   ],
   "source": [
    "# Co-located citiesMountain Home\n",
    "dest1_df = destinations_df.loc[(destinations_df[\"City\"] == \"Fortuna\"), :]\n",
    "dest2_df = destinations_df.loc[(destinations_df[\"City\"] == \"Laguna\"), :]\n",
    "dest3_df = destinations_df.loc[(destinations_df[\"City\"] == \"Pacific Grove\"), :]\n",
    "dest4_df = destinations_df.loc[(destinations_df[\"City\"] == \"Santa Barbara\"), :]\n",
    "\n",
    "dest1_coord = (dest1_df[\"Lat\"].values[0], dest1_df[\"Lng\"].values[0])\n",
    "dest2_coord = (dest2_df[\"Lat\"].values[0], dest2_df[\"Lng\"].values[0])\n",
    "dest3_coord = (dest3_df[\"Lat\"].values[0], dest3_df[\"Lng\"].values[0])\n",
    "dest4_coord = (dest4_df[\"Lat\"].values[0], dest4_df[\"Lng\"].values[0])\n",
    "\n",
    "gmaps.configure(api_key=g_key)\n",
    "\n",
    "destination_layer = gmaps.directions_layer(dest1_coord, dest4_coord, waypoints=[dest2_coord, dest3_coord], travel_mode=\"DRIVING\")\n",
    "fig_d = gmaps.figure()\n",
    "fig_d.add_layer(destination_layer)\n",
    "\n",
    "fig_d"
   ]
  },
  {
   "cell_type": "code",
   "execution_count": 9,
   "metadata": {},
   "outputs": [],
   "source": [
    "#######################################################\n",
    "#          Create Google Maps Marker Layer            #\n",
    "#######################################################"
   ]
  },
  {
   "cell_type": "code",
   "execution_count": 10,
   "metadata": {},
   "outputs": [
    {
     "data": {
      "application/vnd.jupyter.widget-view+json": {
       "model_id": "f574e37c9073443999752b368ea4bfad",
       "version_major": 2,
       "version_minor": 0
      },
      "text/plain": [
       "Figure(layout=FigureLayout(height='420px'))"
      ]
     },
     "metadata": {},
     "output_type": "display_data"
    }
   ],
   "source": [
    "# NOTE: Creating a new data frame here per the rubric is not needed \n",
    "# because new data frame *** destinations_df *** WAS ALREADY CREATED in cell 'In [6]'\n",
    "\n",
    "# Popup markers template for destination cities with hotel and weather information\n",
    "destination_city_info_box_template = \"\"\"\n",
    "<dl>\n",
    "    <dt>Hotel Name</dt>\n",
    "        <dd>{Hotel Name}</dd>\n",
    "    <dt>City</dt>\n",
    "        <dd>{City}</dd>\n",
    "    <dt>Country</dt>\n",
    "        <dd>{Country}</dd>\n",
    "    <dt>Current Weather</dt>\n",
    "        <dd>{Current Description} and {Max Temp} °F</dd>\n",
    "</dl>\n",
    "\"\"\"\n",
    "# Create google map pop marker info boxes for destination cities.\n",
    "destination_city_info_boxes = [destination_city_info_box_template.format(**row) for index, row in destinations_df.iterrows()]\n",
    "\n",
    "# Get destination cities locations\n",
    "destination_city_locations = destinations_df[[\"Lat\", \"Lng\"]]\n",
    "\n",
    "# # Configure gmaps to use your Google API key.\n",
    "gmaps.configure(api_key=g_key)\n",
    "\n",
    "# Add a pop-up marker for each city.\n",
    "marker_layer = gmaps.marker_layer(destination_city_locations, info_box_content=destination_city_info_boxes)\n",
    "\n",
    "fig = gmaps.figure()\n",
    "fig.add_layer(marker_layer)\n",
    "\n",
    "# Call the figure to plot the data.\n",
    "fig"
   ]
  },
  {
   "cell_type": "code",
   "execution_count": null,
   "metadata": {},
   "outputs": [],
   "source": []
  }
 ],
 "metadata": {
  "kernelspec": {
   "display_name": "PythonData",
   "language": "python",
   "name": "pythondata"
  },
  "language_info": {
   "codemirror_mode": {
    "name": "ipython",
    "version": 3
   },
   "file_extension": ".py",
   "mimetype": "text/x-python",
   "name": "python",
   "nbconvert_exporter": "python",
   "pygments_lexer": "ipython3",
   "version": "3.7.7"
  }
 },
 "nbformat": 4,
 "nbformat_minor": 4
}
